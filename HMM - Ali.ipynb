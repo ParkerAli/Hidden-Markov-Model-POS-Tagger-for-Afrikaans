{
 "cells": [
  {
   "cell_type": "code",
   "execution_count": 143,
   "metadata": {
    "collapsed": true,
    "pycharm": {
     "is_executing": false
    }
   },
   "outputs": [],
   "source": [
    "import pandas as pd\n",
    "import numpy as np"
   ]
  },
  {
   "cell_type": "markdown",
   "metadata": {
    "pycharm": {
     "is_executing": false,
     "name": "#%% md\n"
    }
   },
   "source": [
    "# Data Processing\n",
    "\n",
    "We don't filter NA values because there is type of tag in the data called \"NA\". We need this to register as a string."
   ]
  },
  {
   "cell_type": "code",
   "execution_count": 144,
   "metadata": {
    "pycharm": {
     "name": "#%%\n",
     "is_executing": false
    }
   },
   "outputs": [],
   "source": [
    "train = pd.read_csv(\"AfrikaansPOSData/train.csv\",na_filter=False)"
   ]
  },
  {
   "cell_type": "code",
   "execution_count": 145,
   "metadata": {
    "pycharm": {
     "is_executing": false,
     "name": "#%%\n"
    }
   },
   "outputs": [
    {
     "data": {
      "text/plain": "2613"
     },
     "metadata": {},
     "output_type": "execute_result",
     "execution_count": 145
    }
   ],
   "source": [
    "# train['Token'].isna().sum() \n",
    "NAs = len(train.loc[train['Token'] == \"NA\"]) # number of NA vals\n",
    "NAs"
   ]
  },
  {
   "cell_type": "code",
   "execution_count": 146,
   "metadata": {
    "pycharm": {
     "is_executing": false,
     "name": "#%%\n"
    }
   },
   "outputs": [
    {
     "data": {
      "text/plain": "'NA'"
     },
     "metadata": {},
     "output_type": "execute_result",
     "execution_count": 146
    }
   ],
   "source": [
    "train.iloc[175,1]"
   ]
  },
  {
   "cell_type": "markdown",
   "metadata": {
    "pycharm": {
     "is_executing": false,
     "name": "#%% md\n"
    }
   },
   "source": []
  },
  {
   "cell_type": "code",
   "execution_count": 147,
   "metadata": {
    "pycharm": {
     "is_executing": false,
     "name": "#%%\n"
    }
   },
   "outputs": [],
   "source": [
    "def process(df):\n",
    "    \"\"\"\n",
    "    The process function takes in a df with a single word and tag in each row and returns a df with a single sentence (and its tags) contained in each row.\n",
    "    :param df: Dataframe to be processed\n",
    "    :return: Processed dataframe\n",
    "    \"\"\"\n",
    "    df2 = pd.DataFrame(columns = [\"Sentences\", \"Tags\"]) # the processed df\n",
    "    index = 0 # index counter\n",
    "    for i in range(NAs): \n",
    "        sentence = [] # stores a single sentence\n",
    "        tags = [] # stores corresponding tags\n",
    "        while df.iloc[index,0]!=\"NA\" : # while token is not NA\n",
    "            sentence.append(df.iloc[index,0]) # append token to sentence\n",
    "            tags.append(df.iloc[index,1]) # append tag to tags\n",
    "            index+=1 # increment index\n",
    "        index+=1 # increment again so next while-loop can run\n",
    "        df2.at[i,'Sentences']=sentence # add sentence to new dataframe\n",
    "        df2.at[i,'Tags']=tags # add tags for sentence to new dataframe\n",
    "    return df2"
   ]
  },
  {
   "cell_type": "code",
   "execution_count": 148,
   "metadata": {
    "pycharm": {
     "is_executing": false,
     "name": "#%%\n"
    }
   },
   "outputs": [],
   "source": [
    "train2 = process(train)"
   ]
  },
  {
   "cell_type": "code",
   "execution_count": 153,
   "metadata": {
    "pycharm": {
     "is_executing": false,
     "name": "#%%\n"
    }
   },
   "outputs": [
    {
     "data": {
      "text/plain": "['Die',\n 'doel',\n 'van',\n 'die',\n 'webtuiste',\n 'vir',\n 'Suid-Afrikaanse',\n 'Regeringsdienste',\n 'is',\n 'om',\n \"'n\",\n 'enkele',\n 'bron',\n 'van',\n 'inligting',\n 'te',\n 'bied',\n 'oor',\n 'dienste',\n 'wat',\n 'deur',\n 'die',\n 'Suid-Afrikaanse',\n 'regering',\n 'verskaf',\n 'word',\n '.']"
     },
     "metadata": {},
     "output_type": "execute_result",
     "execution_count": 153
    }
   ],
   "source": [
    "train2.Sentences[0]"
   ]
  },
  {
   "cell_type": "code",
   "execution_count": 149,
   "metadata": {
    "pycharm": {
     "is_executing": false
    }
   },
   "outputs": [],
   "source": []
  }
 ],
 "metadata": {
  "kernelspec": {
   "display_name": "Python 3",
   "language": "python",
   "name": "python3"
  },
  "language_info": {
   "codemirror_mode": {
    "name": "ipython",
    "version": 3
   },
   "file_extension": ".py",
   "mimetype": "text/x-python",
   "name": "python",
   "nbconvert_exporter": "python",
   "pygments_lexer": "ipython3",
   "version": "3.7.7"
  },
  "pycharm": {
   "stem_cell": {
    "cell_type": "raw",
    "source": [],
    "metadata": {
     "collapsed": false
    }
   }
  }
 },
 "nbformat": 4,
 "nbformat_minor": 1
}