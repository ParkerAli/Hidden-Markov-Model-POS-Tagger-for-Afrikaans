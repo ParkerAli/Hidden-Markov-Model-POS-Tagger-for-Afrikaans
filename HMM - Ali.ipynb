{
 "cells": [
  {
   "cell_type": "code",
   "execution_count": 1,
   "metadata": {
    "collapsed": true,
    "pycharm": {
     "is_executing": false
    }
   },
   "outputs": [],
   "source": [
    "import pandas as pd\n",
    "import numpy as np"
   ]
  },
  {
   "cell_type": "code",
   "execution_count": 93,
   "outputs": [],
   "source": [
    "train = pd.read_csv(\"AfrikaansPOSData/train.csv\",na_filter=False)"
   ],
   "metadata": {
    "collapsed": false,
    "pycharm": {
     "name": "#%%\n",
     "is_executing": false
    }
   }
  },
  {
   "cell_type": "code",
   "execution_count": 105,
   "outputs": [],
   "source": [
    "# train['Token'].isna().sum() \n",
    "NAs = len(train.loc[train['Token'] == \"NA\"]) # number of NA vals"
   ],
   "metadata": {
    "collapsed": false,
    "pycharm": {
     "name": "#%%\n",
     "is_executing": false
    }
   }
  },
  {
   "cell_type": "code",
   "execution_count": 97,
   "outputs": [
    {
     "data": {
      "text/plain": "'NA'"
     },
     "metadata": {},
     "output_type": "execute_result",
     "execution_count": 97
    }
   ],
   "source": [
    "train.iloc[175,1]"
   ],
   "metadata": {
    "collapsed": false,
    "pycharm": {
     "name": "#%%\n",
     "is_executing": false
    }
   }
  },
  {
   "cell_type": "code",
   "execution_count": 28,
   "outputs": [
    {
     "data": {
      "text/plain": "True"
     },
     "metadata": {},
     "output_type": "execute_result",
     "execution_count": 28
    }
   ],
   "source": [
    "np.isnan(train.iloc[27,0])"
   ],
   "metadata": {
    "collapsed": false,
    "pycharm": {
     "name": "#%%\n",
     "is_executing": false
    }
   }
  },
  {
   "cell_type": "markdown",
   "source": [
    "The process function mostly works but one will issue that cropped up is that it's labelling \"NA\" tags as NaNs.\n",
    "Solved this issue by not filtering NAs out at read-in. "
   ],
   "metadata": {
    "collapsed": false,
    "pycharm": {
     "name": "#%% md\n",
     "is_executing": false
    }
   }
  },
  {
   "cell_type": "code",
   "execution_count": 108,
   "outputs": [],
   "source": [
    "def process(df):\n",
    "    df2 = pd.DataFrame(columns = [\"Sentences\", \"Tags\"]) #the processed df\n",
    "    index = 0\n",
    "    for i in range(NAs): \n",
    "        sentence = [] # Stores a single sentence\n",
    "        tags = [] # Stores corresponding tags\n",
    "        while df.iloc[index,0]!=\"NA\" :\n",
    "            sentence.append(df.iloc[index,0])\n",
    "            tags.append(df.iloc[index,1])\n",
    "            index+=1\n",
    "            # print(index)\n",
    "        index+=1\n",
    "        # print(index)\n",
    "        # print(sentence)\n",
    "        # print(tags)\n",
    "        df2.at[i,'Sentences']=sentence\n",
    "        df2.at[i,'Tags']=tags\n",
    "    return df2\n",
    "        "
   ],
   "metadata": {
    "collapsed": false,
    "pycharm": {
     "name": "#%%\n",
     "is_executing": false
    }
   }
  },
  {
   "cell_type": "code",
   "execution_count": 109,
   "outputs": [],
   "source": [
    "train2 = process(train)"
   ],
   "metadata": {
    "collapsed": false,
    "pycharm": {
     "name": "#%%\n",
     "is_executing": false
    }
   }
  },
  {
   "cell_type": "code",
   "execution_count": 110,
   "outputs": [
    {
     "data": {
      "text/plain": "                                           Sentences  \\\n0  [Die, doel, van, die, webtuiste, vir, Suid-Afr...   \n1  [Die, oogmerk, is, om, die, dispariteit, te, v...   \n2  [Die, webtuiste, is, 'n, kritiese, ingryp, wat...   \n3  [Die, bedoelde, gebruikers, van, die, webtuist...   \n4  ['n, Kritiese, sektor, van, gebruikers, is, al...   \n5  [Omvang, van, die, inligting, op, die, webtuiste]   \n6                 [Inligting, oor, regeringsdienste]   \n7  [Die, webtuiste, bevat, inligting, oor, regeri...   \n8  [Dienste-inligting, is, ooreenkomstig, drie, t...   \n9  [Dienste, vir, mense, :, dienste, vir, Suid-Af...   \n\n                                                Tags  \n0  [LB, NSE, SVS, LB, NSE, SVS, ASA, NSM, VTHOK, ...  \n1  [LB, NSE, VTHOK, SVS, LB, NSE, UPI, VTHOG, PB,...  \n2  [LB, NSE, VTHOK, LO, ASA, NSE, PB, PB, VVHOO, ...  \n3  [LB, ASA, NSM, SVS, LB, NSE, VTHOK, ASA, NSM, ...  \n4  [LO, ASA, NSE, SVS, NSM, VTHOK, THAO, LB, NSM,...  \n5                    [NA, SVS, LB, NM, SVS, LB, NSE]  \n6                                     [NM, SVS, NSM]  \n7  [LB, NSE, VTHOG, NM, SVS, NSM, PB, SVS, LB, AS...  \n8  [NM, VVUOP, SVS, THAB, NSM, NSM, SVS, NSM, VVH...  \n9  [NSM, SVS, NSM, ZM, NSM, SVS, ASA, NSM, PB, SV...  ",
      "text/html": "<div>\n<style scoped>\n    .dataframe tbody tr th:only-of-type {\n        vertical-align: middle;\n    }\n\n    .dataframe tbody tr th {\n        vertical-align: top;\n    }\n\n    .dataframe thead th {\n        text-align: right;\n    }\n</style>\n<table border=\"1\" class=\"dataframe\">\n  <thead>\n    <tr style=\"text-align: right;\">\n      <th></th>\n      <th>Sentences</th>\n      <th>Tags</th>\n    </tr>\n  </thead>\n  <tbody>\n    <tr>\n      <th>0</th>\n      <td>[Die, doel, van, die, webtuiste, vir, Suid-Afr...</td>\n      <td>[LB, NSE, SVS, LB, NSE, SVS, ASA, NSM, VTHOK, ...</td>\n    </tr>\n    <tr>\n      <th>1</th>\n      <td>[Die, oogmerk, is, om, die, dispariteit, te, v...</td>\n      <td>[LB, NSE, VTHOK, SVS, LB, NSE, UPI, VTHOG, PB,...</td>\n    </tr>\n    <tr>\n      <th>2</th>\n      <td>[Die, webtuiste, is, 'n, kritiese, ingryp, wat...</td>\n      <td>[LB, NSE, VTHOK, LO, ASA, NSE, PB, PB, VVHOO, ...</td>\n    </tr>\n    <tr>\n      <th>3</th>\n      <td>[Die, bedoelde, gebruikers, van, die, webtuist...</td>\n      <td>[LB, ASA, NSM, SVS, LB, NSE, VTHOK, ASA, NSM, ...</td>\n    </tr>\n    <tr>\n      <th>4</th>\n      <td>['n, Kritiese, sektor, van, gebruikers, is, al...</td>\n      <td>[LO, ASA, NSE, SVS, NSM, VTHOK, THAO, LB, NSM,...</td>\n    </tr>\n    <tr>\n      <th>5</th>\n      <td>[Omvang, van, die, inligting, op, die, webtuiste]</td>\n      <td>[NA, SVS, LB, NM, SVS, LB, NSE]</td>\n    </tr>\n    <tr>\n      <th>6</th>\n      <td>[Inligting, oor, regeringsdienste]</td>\n      <td>[NM, SVS, NSM]</td>\n    </tr>\n    <tr>\n      <th>7</th>\n      <td>[Die, webtuiste, bevat, inligting, oor, regeri...</td>\n      <td>[LB, NSE, VTHOG, NM, SVS, NSM, PB, SVS, LB, AS...</td>\n    </tr>\n    <tr>\n      <th>8</th>\n      <td>[Dienste-inligting, is, ooreenkomstig, drie, t...</td>\n      <td>[NM, VVUOP, SVS, THAB, NSM, NSM, SVS, NSM, VVH...</td>\n    </tr>\n    <tr>\n      <th>9</th>\n      <td>[Dienste, vir, mense, :, dienste, vir, Suid-Af...</td>\n      <td>[NSM, SVS, NSM, ZM, NSM, SVS, ASA, NSM, PB, SV...</td>\n    </tr>\n  </tbody>\n</table>\n</div>"
     },
     "metadata": {},
     "output_type": "execute_result",
     "execution_count": 110
    }
   ],
   "source": [
    "train2.head(10)"
   ],
   "metadata": {
    "collapsed": false,
    "pycharm": {
     "name": "#%%\n",
     "is_executing": false
    }
   }
  }
 ],
 "metadata": {
  "kernelspec": {
   "name": "python3",
   "language": "python",
   "display_name": "Python 3"
  },
  "language_info": {
   "codemirror_mode": {
    "name": "ipython",
    "version": 2
   },
   "file_extension": ".py",
   "mimetype": "text/x-python",
   "name": "python",
   "nbconvert_exporter": "python",
   "pygments_lexer": "ipython2",
   "version": "2.7.6"
  },
  "pycharm": {
   "stem_cell": {
    "cell_type": "raw",
    "source": [],
    "metadata": {
     "collapsed": false
    }
   }
  }
 },
 "nbformat": 4,
 "nbformat_minor": 0
}