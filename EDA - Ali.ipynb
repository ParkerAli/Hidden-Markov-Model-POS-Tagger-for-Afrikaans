{
 "cells": [
  {
   "cell_type": "markdown",
   "source": [
    "### Package imports"
   ],
   "metadata": {
    "collapsed": false,
    "pycharm": {
     "name": "#%% md\n"
    }
   }
  },
  {
   "cell_type": "code",
   "execution_count": 32,
   "metadata": {
    "collapsed": true,
    "pycharm": {
     "is_executing": false
    }
   },
   "outputs": [],
   "source": [
    "import pandas as pd\n",
    "import numpy as np\n",
    "#import texthero as hero # MUST BE V1.0.5 (pip install texthero==1.0.5)\n",
    "import seaborn as sns\n",
    "import matplotlib.pyplot as plt\n",
    "from collections import Counter"
   ]
  },
  {
   "cell_type": "markdown",
   "source": [
    "### Reading in the data"
   ],
   "metadata": {
    "collapsed": false,
    "pycharm": {
     "name": "#%% md\n"
    }
   }
  },
  {
   "cell_type": "code",
   "execution_count": 7,
   "outputs": [],
   "source": [
    "train = pd.read_csv(\"AfrikaansPOSData/train.csv\")\n"
   ],
   "metadata": {
    "collapsed": false,
    "pycharm": {
     "name": "#%%\n",
     "is_executing": false
    }
   }
  },
  {
   "cell_type": "markdown",
   "source": [
    "### Making sure data looks correct"
   ],
   "metadata": {
    "collapsed": false,
    "pycharm": {
     "name": "#%% md\n"
    }
   }
  },
  {
   "cell_type": "code",
   "execution_count": 12,
   "outputs": [
    {
     "data": {
      "text/plain": "       Token  POS\n0        Die   LB\n1       doel  NSE\n2        van  SVS\n3        die   LB\n4  webtuiste  NSE",
      "text/html": "<div>\n<style scoped>\n    .dataframe tbody tr th:only-of-type {\n        vertical-align: middle;\n    }\n\n    .dataframe tbody tr th {\n        vertical-align: top;\n    }\n\n    .dataframe thead th {\n        text-align: right;\n    }\n</style>\n<table border=\"1\" class=\"dataframe\">\n  <thead>\n    <tr style=\"text-align: right;\">\n      <th></th>\n      <th>Token</th>\n      <th>POS</th>\n    </tr>\n  </thead>\n  <tbody>\n    <tr>\n      <th>0</th>\n      <td>Die</td>\n      <td>LB</td>\n    </tr>\n    <tr>\n      <th>1</th>\n      <td>doel</td>\n      <td>NSE</td>\n    </tr>\n    <tr>\n      <th>2</th>\n      <td>van</td>\n      <td>SVS</td>\n    </tr>\n    <tr>\n      <th>3</th>\n      <td>die</td>\n      <td>LB</td>\n    </tr>\n    <tr>\n      <th>4</th>\n      <td>webtuiste</td>\n      <td>NSE</td>\n    </tr>\n  </tbody>\n</table>\n</div>"
     },
     "metadata": {},
     "output_type": "execute_result",
     "execution_count": 12
    }
   ],
   "source": [
    "train.head(5)"
   ],
   "metadata": {
    "collapsed": false,
    "pycharm": {
     "name": "#%%\n",
     "is_executing": false
    }
   }
  },
  {
   "cell_type": "code",
   "execution_count": 2,
   "outputs": [
    {
     "traceback": [
      "\u001b[1;31m---------------------------------------------------------------------------\u001b[0m",
      "\u001b[1;31mNameError\u001b[0m                                 Traceback (most recent call last)",
      "\u001b[1;32m<ipython-input-2-13beb66c766f>\u001b[0m in \u001b[0;36m<module>\u001b[1;34m\u001b[0m\n\u001b[1;32m----> 1\u001b[1;33m \u001b[0mtrain\u001b[0m\u001b[1;33m.\u001b[0m\u001b[0mtail\u001b[0m\u001b[1;33m(\u001b[0m\u001b[1;36m5\u001b[0m\u001b[1;33m)\u001b[0m\u001b[1;33m\u001b[0m\u001b[1;33m\u001b[0m\u001b[0m\n\u001b[0m",
      "\u001b[1;31mNameError\u001b[0m: name 'train' is not defined"
     ],
     "ename": "NameError",
     "evalue": "name 'train' is not defined",
     "output_type": "error"
    }
   ],
   "source": [
    "train.tail(5)"
   ],
   "metadata": {
    "collapsed": false,
    "pycharm": {
     "name": "#%%\n",
     "is_executing": false
    }
   }
  },
  {
   "cell_type": "markdown",
   "source": [
    "Initial checks indicate the presence of missing values. Looking at the dataframe, we see there are NaN rows after each sentence ends."
   ],
   "metadata": {
    "collapsed": false,
    "pycharm": {
     "name": "#%% md\n"
    }
   }
  },
  {
   "cell_type": "code",
   "execution_count": 12,
   "outputs": [
    {
     "data": {
      "text/plain": "2613"
     },
     "metadata": {},
     "output_type": "execute_result",
     "execution_count": 12
    }
   ],
   "source": [
    "train['Token'].isna().sum() "
   ],
   "metadata": {
    "collapsed": false,
    "pycharm": {
     "name": "#%% \n",
     "is_executing": false
    }
   }
  },
  {
   "cell_type": "markdown",
   "source": [
    "We have 2613 NaN rows in training data. We can also infer that these are many how sentences are contained in the dataset.\n"
   ],
   "metadata": {
    "collapsed": false,
    "pycharm": {
     "name": "#%% md\n"
    }
   }
  },
  {
   "cell_type": "code",
   "execution_count": 23,
   "outputs": [],
   "source": [
    "train.dropna(inplace=True) # Dropping NaNs"
   ],
   "metadata": {
    "collapsed": false,
    "pycharm": {
     "name": "#%%\n",
     "is_executing": false
    }
   }
  },
  {
   "cell_type": "code",
   "execution_count": null,
   "outputs": [],
   "source": [
    "train.shape"
   ],
   "metadata": {
    "collapsed": false,
    "pycharm": {
     "name": "#%%\n"
    }
   }
  },
  {
   "cell_type": "code",
   "execution_count": 29,
   "outputs": [
    {
     "traceback": [
      "\u001b[1;31m---------------------------------------------------------------------------\u001b[0m",
      "\u001b[1;31mValueError\u001b[0m                                Traceback (most recent call last)",
      "\u001b[1;32m<ipython-input-29-eaa0efc585f3>\u001b[0m in \u001b[0;36m<module>\u001b[1;34m\u001b[0m\n\u001b[1;32m----> 1\u001b[1;33m \u001b[0mtags\u001b[0m \u001b[1;33m=\u001b[0m \u001b[1;33m{\u001b[0m\u001b[0mPOS\u001b[0m \u001b[1;32mfor\u001b[0m \u001b[0mToken\u001b[0m\u001b[1;33m,\u001b[0m\u001b[0mPOS\u001b[0m \u001b[1;32min\u001b[0m \u001b[0mtrain\u001b[0m\u001b[1;33m}\u001b[0m\u001b[1;33m\u001b[0m\u001b[1;33m\u001b[0m\u001b[0m\n\u001b[0m",
      "\u001b[1;32m<ipython-input-29-eaa0efc585f3>\u001b[0m in \u001b[0;36m<setcomp>\u001b[1;34m(.0)\u001b[0m\n\u001b[1;32m----> 1\u001b[1;33m \u001b[0mtags\u001b[0m \u001b[1;33m=\u001b[0m \u001b[1;33m{\u001b[0m\u001b[0mPOS\u001b[0m \u001b[1;32mfor\u001b[0m \u001b[0mToken\u001b[0m\u001b[1;33m,\u001b[0m\u001b[0mPOS\u001b[0m \u001b[1;32min\u001b[0m \u001b[0mtrain\u001b[0m\u001b[1;33m}\u001b[0m\u001b[1;33m\u001b[0m\u001b[1;33m\u001b[0m\u001b[0m\n\u001b[0m",
      "\u001b[1;31mValueError\u001b[0m: too many values to unpack (expected 2)"
     ],
     "ename": "ValueError",
     "evalue": "too many values to unpack (expected 2)",
     "output_type": "error"
    }
   ],
   "source": [],
   "metadata": {
    "collapsed": false,
    "pycharm": {
     "name": "#%%\n",
     "is_executing": false
    }
   }
  },
  {
   "cell_type": "code",
   "execution_count": 33,
   "outputs": [],
   "source": [
    "# check total words in vocabulary\n",
    "wordCounts = Counter(train.Token)\n",
    "wordCounts = np.argsort(wordCounts)[::-1]\n",
    "\n",
    "tagCounts = Counter(train.POS)"
   ],
   "metadata": {
    "collapsed": false,
    "pycharm": {
     "name": "#%%\n",
     "is_executing": false
    }
   }
  },
  {
   "cell_type": "code",
   "execution_count": 34,
   "outputs": [
    {
     "data": {
      "text/plain": "Counter({'Die': 368,\n         'doel': 21,\n         'van': 2146,\n         'die': 4222,\n         'webtuiste': 25,\n         'vir': 573,\n         'Suid-Afrikaanse': 82,\n         'Regeringsdienste': 1,\n         'is': 987,\n         'om': 973,\n         \"'n\": 1218,\n         'enkele': 5,\n         'bron': 3,\n         'inligting': 120,\n         'te': 1150,\n         'bied': 29,\n         'oor': 192,\n         'dienste': 56,\n         'wat': 1002,\n         'deur': 299,\n         'regering': 43,\n         'verskaf': 55,\n         'word': 720,\n         '.': 2084,\n         'oogmerk': 1,\n         'dispariteit': 1,\n         'verminder': 16,\n         'tussen': 38,\n         'bemagtigdes': 1,\n         'en': 1811,\n         'ontmagtigdes': 1,\n         ',': 2323,\n         'oftewel': 1,\n         'eerste': 41,\n         'tweede': 17,\n         'ekonomieë': 2,\n         'bestaan': 18,\n         'kritiese': 14,\n         'ingryp': 1,\n         'daarop': 14,\n         'gerig': 16,\n         'seker': 21,\n         'maak': 87,\n         'dat': 398,\n         'landsburgers': 3,\n         'met': 365,\n         'in': 1023,\n         'interaksie': 3,\n         'sal': 470,\n         'kan': 258,\n         'tree': 19,\n         'bedoelde': 1,\n         'gebruikers': 10,\n         'burgers': 20,\n         'alle': 103,\n         'dele': 7,\n         'land': 104,\n         'huidige': 18,\n         'of': 610,\n         'voornemende': 2,\n         'sakeondernemings': 3,\n         'organisasies': 7,\n         'ander': 162,\n         'lande': 26,\n         'nodig': 58,\n         'het': 560,\n         'Kritiese': 1,\n         'sektor': 13,\n         'al': 69,\n         'tussengangers': 2,\n         'soos': 105,\n         'Veeldoelige': 1,\n         'Gemeenskapsentra': 1,\n         '(': 275,\n         'MPCCs': 1,\n         ')': 274,\n         'Gemeenskapontwikkelingswerkers': 1,\n         \"GOW's\": 1,\n         'Batho': 3,\n         'Pele': 2,\n         'Gateway-inbelsentrum': 1,\n         'diegene': 19,\n         'nie': 600,\n         'staat': 57,\n         'regstreeks': 10,\n         'tot': 202,\n         'Internet': 2,\n         'kry': 26,\n         'help': 33,\n         'gebruik': 86,\n         'op': 451,\n         'Inligting': 6,\n         'regeringsdienste': 3,\n         'bevat': 21,\n         'nasionale': 54,\n         'regeringsvlak': 4,\n         'aangebied': 7,\n         'Dienste-inligting': 3,\n         'ooreenkomstig': 12,\n         'drie': 26,\n         'tipes': 1,\n         'kategorieë': 6,\n         'ingedeel': 3,\n         ':': 312,\n         'Dienste': 7,\n         'mense': 106,\n         'volgens': 21,\n         'gerangskik': 2,\n         'verband': 32,\n         'hou': 19,\n         'buitelandse': 14,\n         'spesifiek': 11,\n         'bedoel': 12,\n         'toepaslike': 16,\n         'Elk': 1,\n         'hierdie': 341,\n         'verder': 17,\n         'so': 37,\n         'wyse': 23,\n         'gestruktureer': 1,\n         'dit': 242,\n         'aanpas': 4,\n         'by': 207,\n         'volgorde': 1,\n         'tipiese': 2,\n         'gebeure': 4,\n         'lewe': 23,\n         'burger': 14,\n         'sakeonderneming': 4,\n         'Hierdie': 72,\n         'lewensfases': 1,\n         'ten': 90,\n         'opsigte': 47,\n         'elke': 47,\n         'diens': 17,\n         'sewe': 5,\n         'sleutelareas': 1,\n         'naamlik': 13,\n         'beskrywing': 5,\n         'stappe': 14,\n         'volg': 15,\n         'wetlike': 1,\n         'raamwerk': 6,\n         'diensstandaard': 1,\n         ';': 175,\n         'koste': 8,\n         'vorms': 12,\n         'vul': 13,\n         'kontakbesonderhede': 9,\n         'Verbandhoudende': 1,\n         'afdeling': 11,\n         'regterkantste': 1,\n         'navigasiebalk': 1,\n         'vertoon': 2,\n         'skakels': 6,\n         'na': 120,\n         'webtuistes': 3,\n         'aan': 402,\n         'daardie': 35,\n         'lewensgebeurtenis': 1,\n         'verwant': 1,\n         'Tale': 8,\n         'weergawe': 2,\n         'elf': 4,\n         'tale': 18,\n         'Engels': 9,\n         'Afrikaans': 4,\n         'isiXhosa': 2,\n         'isiZulu': 2,\n         'Sepedi': 2,\n         'Sesotho': 2,\n         'Setswana': 2,\n         'Ndebele': 1,\n         'Tsonga': 1,\n         'Venda': 1,\n         'Siswati': 1,\n         'Ten': 14,\n         'einde': 47,\n         'uit': 90,\n         'brei': 12,\n         'daar': 70,\n         'vooruitsig': 6,\n         'gestel': 28,\n         'uiteindelik': 2,\n         'amptelike': 16,\n         'beskikbaar': 13,\n         'wees': 134,\n         'Vertaling': 1,\n         'oorblywende': 10,\n         'verwagting': 3,\n         'teen': 82,\n         'Maart': 6,\n         '2007': 5,\n         'afgehandel': 7,\n         'oorspronklik': 1,\n         'opgestel': 3,\n         'waarna': 6,\n         'vertaal': 2,\n         'geplaas': 5,\n         'nadat': 16,\n         'Ander': 3,\n         'kenmerke': 3,\n         'Gebruik': 6,\n         'Kontak': 8,\n         'ons': 823,\n         'bladsy': 9,\n         'kommentaar': 14,\n         'lewer': 15,\n         'navraag': 2,\n         'doen': 116,\n         'Regeringsdienste-webtuiste': 3,\n         'www.gov.za-skakel': 1,\n         'voorsien': 28,\n         'Regering': 67,\n         'Aanlyn': 1,\n         'tuisbladsy': 3,\n         'Regeringsinligting-webtuiste': 1,\n         'www.info.gov.za': 1,\n         'werfkaart': 1,\n         'visuele': 8,\n         'voorstelling': 3,\n         'struktuur': 1,\n         'Dit': 153,\n         'hiërargies': 1,\n         'verdeel': 4,\n         'se': 256,\n         'steeds': 32,\n         'meer': 86,\n         'spesifieke': 40,\n         'onderwerpareas': 1,\n         'stel': 64,\n         'jou': 146,\n         'dus': 32,\n         'jouself': 2,\n         'inhoudstruktuur': 1,\n         'oriënteer': 1,\n         'lys': 8,\n         'mees': 5,\n         'besoekte': 1,\n         'inskrywings': 2,\n         'vyf': 11,\n         'meeste': 6,\n         'besoek': 17,\n         'lysting': 1,\n         'aangepas': 3,\n         'statistiek': 1,\n         'bladsye': 5,\n         'Soekvenstertjie': 1,\n         'Wanneer': 19,\n         'soekterm': 1,\n         'ingesleutel': 1,\n         'volledige': 11,\n         'bepaalde': 10,\n         'woord': 5,\n         '(e)': 1,\n         'deursoek': 1,\n         'Skakels': 2,\n         'eksterne': 2,\n         'aangedui': 8,\n         'woorde': 14,\n         \"'\": 22,\n         'buiteskakel': 1,\n         '-': 103,\n         'nuwe': 44,\n         'venster': 1,\n         'oop': 9,\n         'venstertjie': 2,\n         'verskyn': 20,\n         'wanneer': 44,\n         'merker': 1,\n         'skakel': 11,\n         'beweeg': 3,\n         'deurblaai-venster': 1,\n         'oopmaak': 5,\n         'Hoe': 3,\n         'gereeld': 5,\n         'gaan': 52,\n         'bygewerk': 2,\n         '?': 23,\n         'voortdurende': 5,\n         'basis': 11,\n         'Ons': 221,\n         'beleid': 14,\n         'ontwikkelaars': 1,\n         'egter': 39,\n         'waarborg': 6,\n         'gepubliseer': 3,\n         'waarheen': 2,\n         'Sien': 1,\n         'Terme': 1,\n         'Voorwaardes': 1,\n         'par.': 1,\n         '4.3': 1,\n         'Regeringsdepartemente': 1,\n         'neem': 32,\n         'self': 12,\n         'hul': 65,\n         'funksie': 1,\n         'toegewys': 4,\n         'departementele': 3,\n         'kontakbestuurders': 1,\n         'verantwoordelik': 13,\n         'GCIS': 48,\n         'oorkoepelende': 5,\n         'inhoud': 13,\n         'Formaat': 1,\n         'dokumente': 49,\n         'vernaamste': 1,\n         'formaat': 4,\n         'HTML': 1,\n         'PDF-weergawes': 1,\n         'bv.': 8,\n         'wette': 6,\n         'oorspronklike': 26,\n         'uitleg': 1,\n         'daarvan': 35,\n         'behou': 4,\n         'PDF-dokumente': 2,\n         'moet': 426,\n         'jy': 204,\n         'Adobe': 1,\n         'Acrobat': 3,\n         'Reader': 3,\n         '4': 6,\n         'hoër': 15,\n         'rekenaar': 3,\n         'geïnstalleer': 1,\n         'hê': 34,\n         'blaaier': 3,\n         'Soms': 1,\n         'lank': 12,\n         'In': 85,\n         'geval': 18,\n         'beveel': 7,\n         'aflaai': 5,\n         'liewer': 1,\n         'af': 30,\n         'Wenke': 1,\n         'wil': 76,\n         'Explorer': 1,\n         'as': 263,\n         'muis': 2,\n         'regs': 1,\n         'klik': 4,\n         'dokument': 16,\n         'graag': 13,\n         'tuimel-kieslys': 1,\n         'kies': 6,\n         'Save': 5,\n         'Target': 1,\n         'As': 48,\n         '-venstertjie': 1,\n         'plek': 25,\n         'hardeskyf': 2,\n         'waar': 65,\n         'stoor': 3,\n         'knoppie': 2,\n         'lêer': 3,\n         'afgelaai': 4,\n         'Maak': 5,\n         'toepassing': 27,\n         'daarna': 5,\n         'Netscape': 1,\n         'skuif': 1,\n         'linkerkantste': 1,\n         'muisklik': 1,\n         'ook': 159,\n         'probleme': 13,\n         'ervaar': 8,\n         'asseblief': 6,\n         'electronic@gcis.gov.za': 2,\n         'indien': 105,\n         'enige': 108,\n         'ondervind': 2,\n         'Indien': 68,\n         'vereniging': 34,\n         'maatskappy': 33,\n         'beslote': 7,\n         'korporasie': 6,\n         'sy': 95,\n         'skuld': 4,\n         'betaal': 59,\n         'verpligtinge': 2,\n         'nakom': 3,\n         'weens': 3,\n         'insolvensie': 1,\n         'rede': 13,\n         'mag': 77,\n         'Direkteur-generaal': 13,\n         'Nywerheid': 11,\n         'onder': 66,\n         'administrasie': 6,\n         'plaas': 17,\n         'laat': 30,\n         'likwideer': 3,\n         'Vereniging': 4,\n         'voorlopige': 43,\n         'lid': 11,\n         'belanghebbende': 5,\n         'persoon': 57,\n         'hof': 38,\n         'aansoek': 135,\n         'aanhoor': 1,\n         'hooggeregshof': 2,\n         'landdroshof': 3,\n         'regsbevoegdheid': 1,\n         'gebied': 14,\n         'gesetel': 1,\n         'aktiwiteite': 9,\n         'bedryf': 6,\n         'howe': 4,\n         'beslis': 6,\n         'beste': 8,\n         'regverdigste': 1,\n         'beslissing': 3,\n         'gegewe': 6,\n         'situasie': 10,\n         'hy': 31,\n         'nodige': 21,\n         'beskik': 6,\n         'sake': 21,\n         'voorwaardes': 21,\n         'Maatskappywet': 4,\n         '1973': 4,\n         'administreer': 2,\n         'skriftelik': 8,\n         'daarom': 2,\n         'deregistreer': 1,\n         'tevrede': 6,\n         'resolusie': 2,\n         'besluit': 20,\n         'gunste': 1,\n         'deregistrasie': 3,\n         'aanvaar': 23,\n         'vergadering': 4,\n         'beduidende': 1,\n         'getal': 13,\n         'lede': 50,\n         'bygewoon': 2,\n         'meerderheid': 6,\n         'teenwoordig': 3,\n         'was': 75,\n         'verteenwoordig': 23,\n         'tersaaklike': 4,\n         'dinge': 11,\n         'redelikerwys': 2,\n         'voor': 37,\n         'bespreek': 6,\n         'insluitende': 14,\n         'hoe': 36,\n         'bates': 5,\n         'laste': 1,\n         'gehandel': 1,\n         'wel': 19,\n         'gelikwideer': 2,\n         'gelykop': 1,\n         'regverdig': 4,\n         'moontlike': 7,\n         'aanbevelings': 5,\n         'verdeling': 1,\n         'Minister': 10,\n         'ingevolge': 24,\n         'watter': 22,\n         'prosedure': 3,\n         'sulke': 5,\n         'omstandighede': 19,\n         'magte': 2,\n         'pligte': 4,\n         'registrasiebeampte': 4,\n         'partye': 21,\n         'uiteensit': 4,\n         'BK': 2,\n         'party': 10,\n         'direkteur': 14,\n         'ouditeur': 2,\n         'Inkomstediens': 8,\n         'SAID': 15,\n         'Registrateur': 18,\n         'Maatskappye': 5,\n         'voorkeurbehandeling': 1,\n         'net': 26,\n         'bepalings': 15,\n         'Wet': 41,\n         'Organisasies': 6,\n         'sonder': 38,\n         'Winsoogmerk': 3,\n         '1997': 6,\n         'verwante': 6,\n         'wetgewing': 2,\n         'voldoen': 34,\n         'vrystelling': 2,\n         'een': 62,\n         'onderstaande': 8,\n         'val': 14,\n         'Maatskappy': 2,\n         'Artikel': 5,\n         '21': 2,\n         'ingelyf': 1,\n         'So': 3,\n         'artikel': 1,\n         '21-maatskappy': 1,\n         'akte': 4,\n         'oprigting': 3,\n         'stigtingsdokument': 3,\n         'geregistreer': 22,\n         'Trust': 1,\n         'trustakte': 2,\n         'trust': 9,\n         'Meester': 16,\n         'Hooggeregshof': 2,\n         'persone': 17,\n         'vrywillige': 5,\n         'wie': 22,\n         'grondwet': 2,\n         'gereël': 3,\n         '30': 11,\n         'geskrewe': 14,\n         'onderneming': 23,\n         'aansoeker': 18,\n         'onderteken': 26,\n         'saam': 65,\n         'aansoekvorm': 48,\n         'ingedien': 19,\n         'vorige': 10,\n         'dan': 12,\n         'bly': 24,\n         'totdat': 5,\n         'kennis': 14,\n         'tans': 16,\n         'formeel': 2,\n         'inkomstebelasting': 5,\n         'vrygestel': 3,\n         'ingevulde': 9,\n         'ondersteunende': 4,\n         'ondertekende': 1,\n         'waarin': 32,\n         'fidusiêre': 1,\n         'hoedanigheid': 2,\n         'optree': 5,\n         'onderneem': 13,\n         'volgende': 64,\n         'Heg': 8,\n         'kopie': 8,\n         'kopieë': 15,\n         'geregistreerde': 12,\n         'spesiale': 24,\n         'besluite': 7,\n         'wysig': 7,\n         'daaropvolgende': 2,\n         'aktes': 1,\n         'wysiging': 9,\n         'jongste': 2,\n         'gestig': 1,\n         'hoofdoelstelling': 1,\n         'stipendiums': 1,\n         'studiebeurse': 1,\n         'toekennings': 2,\n         'studie': 1,\n         'navorsing': 5,\n         'naas': 1,\n         'hierbo': 7,\n         'genoem': 9,\n         'EI': 1,\n         '3': 9,\n         'Geskrewe': 1,\n         'Onderneming': 2,\n         'invul': 9,\n         'Openbare': 10,\n         'onafhanklike': 4,\n         'privaat': 14,\n         'skole': 12,\n         'hoëronderwysinstellings': 2,\n         'instellings': 7,\n         'volwassene-': 1,\n         'basiese': 28,\n         'VBOO': 1,\n         'verdere': 19,\n         'VOO': 2,\n         'registrasiesertifikaat': 7,\n         'betrokke': 36,\n         'opvoedkundige': 2,\n         'owerheid': 2,\n         'uitgereik': 35,\n         'Onderhoud': 2,\n         'plig': 6,\n         'byvoorbeeld': 18,\n         'minderjarige': 1,\n         'huisvesting': 2,\n         'voedsel': 4,\n         'klere': 2,\n         'mediese': 10,\n         'middele': 2,\n         'dié': 19,\n         'noodsaaklikhede': 2,\n         'regsplig': 1,\n         'onderhou': 5,\n         '\"': 123,\n         'onderhoudsplig': 3,\n         'Wie': 3,\n         'onderhoud': 23,\n         'ontstaan': 8,\n         'middel': 10,\n         'bloedverwantskap': 1,\n         'aanneming': 1,\n         'huweliksluiting': 1,\n         'mekaar': 7,\n         'Kind': 1,\n         'haar': 27,\n         'ouers': 12,\n         'ongeag': 8,\n         'hulle': 152,\n         'getroud': 10,\n         'saamwoon': 1,\n         'uitmekaargegaan': 1,\n         'geskei': 1,\n         'insluitend': 28,\n         'kind': 8,\n         'aangeneem': 3,\n         '/': 37,\n         'grootouers': 1,\n         'verskil': 8,\n         'familielid': 5,\n         'beperk': 6,\n         'Enige': 11,\n         'ouderdom': 5,\n         'vra': 17,\n         'mits': 9,\n         'twee': 25,\n         'vereistes': 26,\n         'eis': 7,\n         'homself': 1,\n         'haarself': 1,\n         'geëis': 6,\n         'bekostig': 5,\n         'Watter': 2,\n         'uitgawes': 3,\n         'Jy': 29,\n         'sodanige': 16,\n         'noodsaaklik': 7,\n         'geregtig': 5,\n         'behoorlike': 8,\n         'sluit': 40,\n         'verskaffing': 1,\n         'dek': 4,\n         'kostes': 1,\n         'verbonde': 2,\n         'vader': 2,\n         'dra': 17,\n         'betaling': 43,\n         'laying-in': 1,\n         'expenses': 1,\n         '[': 2,\n         ']': 2,\n         'geboortedatum': 2,\n         'dag': 14,\n         'waarop': 28,\n         'onderhoudsbevel': 4,\n         'toegestaan': 9,\n         'bevel': 5,\n         'verleen': 22,\n         'onkoste': 2,\n         'afhanklike': 1,\n         'fonds': 1,\n         'billike': 2,\n         'albei': 7,\n         'bewys': 16,\n         'Jou': 9,\n         'kinders': 29,\n         'afhanklik': 4,\n         'siening': 1,\n         'ouer': 9,\n         'gedrag': 4,\n         'selfs': 13,\n         'weer': 10,\n         'trou': 4,\n         'verhouding': 9,\n         'toelaat': 3,\n         'later': 13,\n         'nog': 53,\n         'reg': 10,\n         'heeltemal': 7,\n         'verskillende': 10,\n         'geen': 42,\n         'manier': 16,\n         'sou': 13,\n         'invloed': 1,\n         'uitoefen': 1,\n         'onderhoudsbedrag': 2,\n         'gewysig': 2,\n         'bring': 13,\n         'Stappe': 4,\n         'Doen': 11,\n         'distrik': 3,\n         'woon': 9,\n         'plaaslike': 39,\n         'sê': 22,\n         'Gaan': 2,\n         'aangewese': 10,\n         'vorm': 46,\n         'A': 8,\n         'Aansoek': 5,\n         'handig': 3,\n         'Saam': 3,\n         'voltooide': 1,\n         'maandelikse': 1,\n         'inkomste': 19,\n         'kwitansies': 1,\n         'voedselaankope': 1,\n         'elektrisiteitsrekening': 1,\n         'huishuur': 1,\n         'datum': 23,\n         'respondent': 5,\n         'verlang': 5,\n         'toe': 24,\n         'Onderhoudsbeampte': 1,\n         'ondersoeker': 1,\n         'ondersoek': 14,\n         'nagaan': 2,\n         'dagvaarding': 1,\n         'brief': 8,\n         'opdrag': 7,\n         'gee': 33,\n         'gebring': 9,\n         'beteken': 16,\n         'sekere': 15,\n         'aangeleentheid': 8,\n         'nou': 28,\n         'keuse': 4,\n         'stem': 6,\n         'staan': 17,\n         'instem': 2,\n         'landdros': 8,\n         'relevante': 2,\n         'vereis': 12,\n         'bewering': 1,\n         'aanspreeklik': 15,\n         'toestem': 3,\n         'verlening': 1,\n         'getuienis': 1,\n         'én': 8,\n         'onderskeie': 9,\n         'getuies': 2,\n         'aangehoor': 1,\n         'bevind': 6,\n         'bepaal': 22,\n         'hoeveel': 5,\n         'onderhoudsbetalings': 2,\n         'gemaak': 34,\n         'onderhoudsgeld': 1,\n         'maniere': 13,\n         'By': 6,\n         'landdroskantoor': 4,\n         'regeringskantoor': 1,\n         'aangewys': 3,\n         'Inbetaling': 1,\n         'bank-': 1,\n         'bougenootskaprekening': 1,\n         'verstrek': 21,\n         'Regstreeks': 1,\n         'geld': 14,\n         'Deur': 11,\n         'werkgewer': 3,\n         'werknemer': 6,\n         'salaris': 1,\n         'trek': 5,\n         '1998': 12,\n         'applikant': 7,\n         'ingevul': 18,\n         'derde': 17,\n         'anders': 14,\n         'oorweeg': 5,\n         'Raadpleeg': 5,\n         'aansoekgids': 2,\n         'registrasieproses': 1,\n         'Soort': 3,\n         'kliënt': 3,\n         'merk': 2,\n         'invoerder-blokkie': 1,\n         'registrasie': 38,\n         'Verstrek': 8,\n         'Invoerdersbesonderhede': 1,\n         'handelsnaam': 9,\n         'straatnaam': 3,\n         '-nommer': 3,\n         'naam': 38,\n         'verdiepingnommer': 1,\n         'gebou': 5,\n         'voorstad': 6,\n         'geleë': 14,\n         'stad': 3,\n         'dorp': 3,\n         'straatkode': 2,\n         'voorlegging': 2,\n         'opstel': 3,\n         'voorlê': 6,\n         'agent': 9,\n         'aangestel': 2,\n         'alleeneienaar': 3,\n         'vennote': 16,\n         'trustee': 3,\n         'besigheid': 12,\n         'bestuur': 7,\n         'invoerder': 6,\n         'hier': 21,\n         'Waar': 5,\n         'asterisk': 3,\n         '*': 3,\n         'voorkom': 8,\n         'skrap': 3,\n         'Verklaring': 3,\n         'voorletters': 4,\n         'bestuurder': 4,\n         'eienaar': 8,\n         'Vul': 21,\n         'naaste': 15,\n         'SAID-doeane-en-aksynskantoor': 2,\n         'gewaarmerkte': 16,\n         'Permit': 3,\n         'Departement': 65,\n         'formules': 3,\n         'kortingsitem': 2,\n         '607.04.10(02)': 3,\n         '607.04.10(03)': 3,\n         '607.04.10(09)': 3,\n         '607.04.10(12)': 3,\n         'gedoen': 33,\n         'identiteitsdokumente': 5,\n         'paspoortdokumente': 1,\n         'nie-inwonende': 2,\n         'nie-ingesete': 1,\n         'individu': 9,\n         'trustees': 3,\n         'direkteure': 4,\n         'besturende': 3,\n         'finansiële': 22,\n         'DA': 1,\n         '185': 1,\n         'Korting-blokkie': 1,\n         'deel': 40,\n         'Kliënttipes': 1,\n         'Registrasie-gedeelte': 1,\n         'Handelsbesonderhede-gedeelte': 1,\n         'Kliënttipe': 1,\n         'II': 1,\n         'nommer': 5,\n         'kortingspakhuis': 4,\n         'vloer': 1,\n         'doen-gedeelte': 1,\n         'voltooi': 10,\n         'kortinggebruiker': 1,\n         'entiteit': 3,\n         'Op': 14,\n         'plekke': 2,\n         'gedeelte': 5,\n         'getiteld': 1,\n         'Besonderhede': 1,\n         'Beskrywing': 2,\n         'goedere': 20,\n         'geberg': 2,\n         'tariefopskrifte': 1,\n         'items': 3,\n         'ingevoerde': 4,\n         'kortingitems': 1,\n         'skedule': 3,\n         '5': 8,\n         '6': 13,\n         'produkte': 13,\n         'grondstowwe': 1,\n         'Verklaring-gedeelte': 1,\n         'teken': 6,\n         'Dien': 14,\n         'doeane-': 1,\n         'aksynskantoor': 1,\n         'kortingitem': 1,\n         'Identiteitsdokument': 1,\n         'paspoort': 1,\n         'nie-ingesetene': 2,\n         'korporasies': 3,\n         'trusts': 2,\n         'Alle': 21,\n         'misstowwe': 8,\n         'Suid-Afrika': 107,\n         'ingevoer': 16,\n         'vervaardig': 3,\n         'geproduseer': 3,\n         'verkoop': 10,\n         '36': 9,\n         '1947': 10,\n         'regspersoon': 7,\n         'Johan': 3,\n         'Pieters': 3,\n         'Citizen': 2,\n         'Diepsloot': 2,\n         'Stud': 2,\n         'Oorsese': 3,\n         'Slegs': 5,\n         'plaaslik': 5,\n         'liggaam': 5,\n         'regspersoonlikheid': 2,\n         'Groep': 4,\n         '1-misstowwe': 1,\n         'stikstof': 1,\n         'fosfor': 1,\n         'kalium': 1,\n         'hoofbestanddeel': 2,\n         'Hulle': 17,\n         'bekend': 6,\n         'anorganiese': 1,\n         'Registrasie': 3,\n         'slegs': 34,\n         'gedurende': 18,\n         'tydperk': 22,\n         'samestelling': 6,\n         'misstof': 2,\n         'besonderhede': 19,\n         'bewoording': 2,\n         'etiket': 9,\n         'houer': 7,\n         'verander': 17,\n         'vooraf': 7,\n         'goedkeuring': 4,\n         'registrateur': 9,\n         'tydens': 24,\n         'uiteengesit': 9,\n         'oorgedra': 6,\n         'sak-': 2,\n         'houergrootte': 2,\n         'dierevoer': 2,\n         'Dekbrief': 3,\n         'registrasiehouer': 6,\n         'verteenwoordiger': 6,\n         'dekbrief': 5,\n         'insluit': 18,\n         'produk': 17,\n         'registrasienommer': 8,\n         'reeds': 43,\n         'dogterregistrasie': 6,\n         'toestemmingsbriewe': 3,\n         'produknaam': 3,\n         'korrekte': 9,\n         'aansoekfooi': 5,\n         'tjeks': 3,\n         'afsonderlik': 6,\n         'gestuur': 12,\n         'verduidelikende': 2,\n         'vergesel': 6,\n         'posorders': 3,\n         'uitgemaak': 5,\n         'Landbou': 9,\n         'formuleringblad': 2,\n         'aansoeke': 14,\n         'wysigings': 4,\n         'bestaande': 8,\n         'verandering': 6,\n         'formulering': 3,\n         'aansoekvorms': 14,\n         'duplikaat': 4,\n         'volledig': 8,\n         'verwys': 10,\n         'bladsynommers': 3,\n         'minste': 10,\n         'afskrif': 13,\n         'handtekening': 8,\n         'fotostaat': 3,\n         'wetlik': 3,\n         'verkieslik': 4,\n         'kontakpersoon': 3,\n         'naamsverandering': 3,\n         'klein': 12,\n         'ookal': 2,\n         'beskou': 12,\n         'administrasiekantoor': 3,\n         'Om': 32,\n         'tegniese': 10,\n         'raadgewers': 3,\n         'oorhandig': 3,\n         'proses': 31,\n         'vertraag': 5,\n         'Konsepetikette': 2,\n         'dien': 16,\n         'etikette': 2,\n         'druk': 5,\n         'duidelik': 25,\n         'leesbaar': 3,\n         'waarskuwings': 2,\n         'voorsorgmaatreëls': 2,\n         'presies': 5,\n         'ooreenstem': 3,\n         '2-misstowwe': 1,\n         'makro-': 1,\n         'mikroörganismes': 1,\n         'organiese': 1,\n         'Tjeks': 2,\n         'moenie': 2,\n         'Planttelersregte': 5,\n         'variëteite': 2,\n         'soorte': 9,\n         'plante': 6,\n         '1976': 3,\n         'verklaar': 8,\n         ...})"
     },
     "metadata": {},
     "output_type": "execute_result",
     "execution_count": 34
    }
   ],
   "source": [
    "counts"
   ],
   "metadata": {
    "collapsed": false,
    "pycharm": {
     "name": "#%%\n",
     "is_executing": false
    }
   }
  }
 ],
 "metadata": {
  "kernelspec": {
   "name": "python3",
   "language": "python",
   "display_name": "Python 3"
  },
  "language_info": {
   "codemirror_mode": {
    "name": "ipython",
    "version": 2
   },
   "file_extension": ".py",
   "mimetype": "text/x-python",
   "name": "python",
   "nbconvert_exporter": "python",
   "pygments_lexer": "ipython2",
   "version": "2.7.6"
  },
  "pycharm": {
   "stem_cell": {
    "cell_type": "raw",
    "source": [],
    "metadata": {
     "collapsed": false
    }
   }
  }
 },
 "nbformat": 4,
 "nbformat_minor": 0
}