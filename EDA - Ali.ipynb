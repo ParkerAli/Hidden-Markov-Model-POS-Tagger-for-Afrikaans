{
 "cells": [
  {
   "cell_type": "markdown",
   "source": [
    "### Package imports"
   ],
   "metadata": {
    "collapsed": false,
    "pycharm": {
     "name": "#%% md\n"
    }
   }
  },
  {
   "cell_type": "code",
   "execution_count": 32,
   "metadata": {
    "collapsed": true,
    "pycharm": {
     "is_executing": false
    }
   },
   "outputs": [],
   "source": [
    "import pandas as pd\n",
    "import numpy as np\n",
    "#import texthero as hero # MUST BE V1.0.5 (pip install texthero==1.0.5)\n",
    "import seaborn as sns\n",
    "import matplotlib.pyplot as plt\n",
    "from collections import Counter"
   ]
  },
  {
   "cell_type": "markdown",
   "source": [
    "### Reading in the data"
   ],
   "metadata": {
    "collapsed": false,
    "pycharm": {
     "name": "#%% md\n"
    }
   }
  },
  {
   "cell_type": "code",
   "execution_count": 7,
   "outputs": [],
   "source": [
    "train = pd.read_csv(\"AfrikaansPOSData/train.csv\")\n"
   ],
   "metadata": {
    "collapsed": false,
    "pycharm": {
     "name": "#%%\n",
     "is_executing": false
    }
   }
  },
  {
   "cell_type": "markdown",
   "source": [
    "### Making sure data looks correct"
   ],
   "metadata": {
    "collapsed": false,
    "pycharm": {
     "name": "#%% md\n"
    }
   }
  },
  {
   "cell_type": "code",
   "execution_count": 12,
   "outputs": [
    {
     "data": {
      "text/plain": "       Token  POS\n0        Die   LB\n1       doel  NSE\n2        van  SVS\n3        die   LB\n4  webtuiste  NSE",
      "text/html": "<div>\n<style scoped>\n    .dataframe tbody tr th:only-of-type {\n        vertical-align: middle;\n    }\n\n    .dataframe tbody tr th {\n        vertical-align: top;\n    }\n\n    .dataframe thead th {\n        text-align: right;\n    }\n</style>\n<table border=\"1\" class=\"dataframe\">\n  <thead>\n    <tr style=\"text-align: right;\">\n      <th></th>\n      <th>Token</th>\n      <th>POS</th>\n    </tr>\n  </thead>\n  <tbody>\n    <tr>\n      <th>0</th>\n      <td>Die</td>\n      <td>LB</td>\n    </tr>\n    <tr>\n      <th>1</th>\n      <td>doel</td>\n      <td>NSE</td>\n    </tr>\n    <tr>\n      <th>2</th>\n      <td>van</td>\n      <td>SVS</td>\n    </tr>\n    <tr>\n      <th>3</th>\n      <td>die</td>\n      <td>LB</td>\n    </tr>\n    <tr>\n      <th>4</th>\n      <td>webtuiste</td>\n      <td>NSE</td>\n    </tr>\n  </tbody>\n</table>\n</div>"
     },
     "metadata": {},
     "output_type": "execute_result",
     "execution_count": 12
    }
   ],
   "source": [
    "train.head(5)"
   ],
   "metadata": {
    "collapsed": false,
    "pycharm": {
     "name": "#%%\n",
     "is_executing": false
    }
   }
  },
  {
   "cell_type": "code",
   "execution_count": 2,
   "outputs": [
    {
     "traceback": [
      "\u001b[1;31m---------------------------------------------------------------------------\u001b[0m",
      "\u001b[1;31mNameError\u001b[0m                                 Traceback (most recent call last)",
      "\u001b[1;32m<ipython-input-2-13beb66c766f>\u001b[0m in \u001b[0;36m<module>\u001b[1;34m\u001b[0m\n\u001b[1;32m----> 1\u001b[1;33m \u001b[0mtrain\u001b[0m\u001b[1;33m.\u001b[0m\u001b[0mtail\u001b[0m\u001b[1;33m(\u001b[0m\u001b[1;36m5\u001b[0m\u001b[1;33m)\u001b[0m\u001b[1;33m\u001b[0m\u001b[1;33m\u001b[0m\u001b[0m\n\u001b[0m",
      "\u001b[1;31mNameError\u001b[0m: name 'train' is not defined"
     ],
     "ename": "NameError",
     "evalue": "name 'train' is not defined",
     "output_type": "error"
    }
   ],
   "source": [
    "train.tail(5)"
   ],
   "metadata": {
    "collapsed": false,
    "pycharm": {
     "name": "#%%\n",
     "is_executing": false
    }
   }
  },
  {
   "cell_type": "markdown",
   "source": [
    "Initial checks indicate the presence of missing values. Looking at the dataframe, we see there are NaN rows after each sentence ends."
   ],
   "metadata": {
    "collapsed": false,
    "pycharm": {
     "name": "#%% md\n"
    }
   }
  },
  {
   "cell_type": "code",
   "execution_count": 12,
   "outputs": [
    {
     "data": {
      "text/plain": "2613"
     },
     "metadata": {},
     "output_type": "execute_result",
     "execution_count": 12
    }
   ],
   "source": [
    "train['Token'].isna().sum() "
   ],
   "metadata": {
    "collapsed": false,
    "pycharm": {
     "name": "#%% \n",
     "is_executing": false
    }
   }
  },
  {
   "cell_type": "markdown",
   "source": [
    "We have 2613 NaN rows in training data. We can also infer that these are many how sentences are contained in the dataset.\n"
   ],
   "metadata": {
    "collapsed": false,
    "pycharm": {
     "name": "#%% md\n"
    }
   }
  },
  {
   "cell_type": "code",
   "execution_count": 39,
   "outputs": [],
   "source": [
    "train.dropna(inplace=True) # Dropping NaNs"
   ],
   "metadata": {
    "collapsed": false,
    "pycharm": {
     "name": "#%%\n",
     "is_executing": false
    }
   }
  },
  {
   "cell_type": "code",
   "execution_count": null,
   "outputs": [],
   "source": [
    "train.shape"
   ],
   "metadata": {
    "collapsed": false,
    "pycharm": {
     "name": "#%%\n"
    }
   }
  },
  {
   "cell_type": "code",
   "execution_count": 34,
   "outputs": [],
   "source": [],
   "metadata": {
    "collapsed": false,
    "pycharm": {
     "name": "#%%\n",
     "is_executing": false
    }
   }
  },
  {
   "cell_type": "code",
   "execution_count": 44,
   "outputs": [],
   "source": [
    "# check total words in vocabulary\n",
    "wordCounts = Counter(train.Token)\n",
    "wordCounts = sorted(wordCounts.items(), key=lambda x: x[1], reverse=True)\n",
    "\n",
    "tagCounts = Counter(train.POS)\n",
    "tagCounts = sorted(tagCounts.items(), key=lambda x: x[1], reverse=True)"
   ],
   "metadata": {
    "collapsed": false,
    "pycharm": {
     "name": "#%%\n",
     "is_executing": false
    }
   }
  },
  {
   "cell_type": "code",
   "execution_count": 43,
   "outputs": [
    {
     "data": {
      "text/plain": "[('die', 3872),\n (',', 2086),\n ('van', 1983),\n ('.', 1806),\n ('en', 1634),\n (\"'n\", 1115),\n ('te', 995),\n ('wat', 936),\n ('in', 922),\n ('is', 909)]"
     },
     "metadata": {},
     "output_type": "execute_result",
     "execution_count": 43
    }
   ],
   "source": [
    "wordCounts[0:10]"
   ],
   "metadata": {
    "collapsed": false,
    "pycharm": {
     "name": "#%%\n",
     "is_executing": false
    }
   }
  },
  {
   "cell_type": "code",
   "execution_count": 46,
   "outputs": [
    {
     "data": {
      "text/plain": "[('SVS', 6931),\n ('NSE', 6126),\n ('LB', 4223),\n ('NSM', 3415),\n ('ASA', 2970),\n ('VTHOG', 2901),\n ('ZM', 2494),\n ('KN', 2326),\n ('ZE', 1847),\n ('BS', 1646),\n ('PB', 1411),\n ('VTUOM', 1254),\n ('LO', 1115),\n ('KO', 1020),\n ('UPI', 990),\n ('VVHOG', 890),\n ('NM', 726),\n ('VTHOK', 719),\n ('VTUOP', 679),\n ('NEE', 565),\n ('RS', 561),\n ('VTHOO', 533),\n ('ASP', 528),\n ('PEMP', 493),\n ('PA', 430),\n ('VUOT', 396),\n ('PDOENP', 355),\n ('UPW', 355),\n ('VVUOP', 353),\n ('ZPL', 340),\n ('PEMB', 338),\n ('ZPR', 331),\n ('UPO', 316),\n ('PO', 291),\n ('THAO', 278),\n ('VTHSG', 266),\n ('UPS', 228),\n ('PTENP', 221),\n ('THAB', 206),\n ('RL', 168),\n ('RWD', 140),\n ('UPV', 134),\n ('VTHSO', 123),\n ('PTEB', 119),\n ('PDMP', 109),\n ('PDMB', 105),\n ('UXD', 88),\n ('VVHOK', 78),\n ('TRAB', 77),\n ('VVHOO', 75),\n ('THBO', 71),\n ('RV', 70),\n ('RK', 67),\n ('PEENP', 67),\n ('PDHEB', 63),\n ('BV', 62),\n ('UPD', 61),\n ('VTUOA', 56),\n ('AOA', 48),\n ('AVA', 43),\n ('VTHOV', 38),\n ('RA', 34),\n ('PDHENP', 26),\n ('THPB', 26),\n ('VVUOM', 24),\n ('PTEDP', 23),\n ('PDVENP', 23),\n ('AVP', 21),\n ('PV', 20),\n ('PDVEB', 18),\n ('BO', 15),\n ('THBB', 15),\n ('PEMW', 14),\n ('TRBB', 14),\n ('NSED', 11),\n ('PDOEW', 11),\n ('PEEB', 10),\n ('THPO', 9),\n ('PEEDP', 9),\n ('TRAO', 8),\n ('PW', 7),\n ('PDVEDP', 7),\n ('NSMD', 7),\n ('PDHEDP', 6),\n ('UPG', 5),\n ('AOP', 5),\n ('PDHEW', 4),\n ('PTMP', 4),\n ('UPB', 3),\n ('NME', 3),\n ('PDMW', 3),\n ('PTEW', 2),\n ('RO', 2),\n ('RSF', 1),\n ('PDVEW', 1),\n ('THNB', 1),\n ('TRBO', 1)]"
     },
     "metadata": {},
     "output_type": "execute_result",
     "execution_count": 46
    }
   ],
   "source": [
    "tagCounts"
   ],
   "metadata": {
    "collapsed": false,
    "pycharm": {
     "name": "#%%\n",
     "is_executing": false
    }
   }
  }
 ],
 "metadata": {
  "kernelspec": {
   "name": "python3",
   "language": "python",
   "display_name": "Python 3"
  },
  "language_info": {
   "codemirror_mode": {
    "name": "ipython",
    "version": 2
   },
   "file_extension": ".py",
   "mimetype": "text/x-python",
   "name": "python",
   "nbconvert_exporter": "python",
   "pygments_lexer": "ipython2",
   "version": "2.7.6"
  },
  "pycharm": {
   "stem_cell": {
    "cell_type": "raw",
    "source": [],
    "metadata": {
     "collapsed": false
    }
   }
  }
 },
 "nbformat": 4,
 "nbformat_minor": 0
}